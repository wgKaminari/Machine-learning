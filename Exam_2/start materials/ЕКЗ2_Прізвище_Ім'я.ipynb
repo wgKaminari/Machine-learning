{
 "cells": [
  {
   "cell_type": "code",
   "execution_count": 1,
   "metadata": {},
   "outputs": [],
   "source": [
    "import numpy as np\n",
    "import matplotlib.pyplot as plt \n",
    "import pandas as pd"
   ]
  },
  {
   "cell_type": "code",
   "execution_count": null,
   "metadata": {},
   "outputs": [],
   "source": []
  },
  {
   "cell_type": "code",
   "execution_count": null,
   "metadata": {},
   "outputs": [],
   "source": []
  },
  {
   "cell_type": "markdown",
   "metadata": {},
   "source": [
    "### Завдання 1. \n",
    "\n",
    "[6 бали]\n",
    "\n",
    "Для датасету `<прізвище>_shopping-data.csv`\n",
    "(Чотири ознаки : sex, age, annual income, spending score)  \n",
    "\n",
    "\n",
    "1. Побудувати ієрархічну кластеризацію (дендрограму). \n",
    "2. За допомогою `AgglomerativeClustering` з `sklearn.cluster` отримати кластеризацію на 5 кластерів.\n",
    "3. Візуалізувати 5 кластерів на площині (перебираючи попарно ознаки). \n",
    "4. Підбором параметрів `affinity` та `linkage` досягти найкращої плоскої візуалізації 5 кластерів для ознак `Age` та `Annual Income`."
   ]
  },
  {
   "cell_type": "code",
   "execution_count": null,
   "metadata": {},
   "outputs": [],
   "source": []
  },
  {
   "cell_type": "code",
   "execution_count": null,
   "metadata": {},
   "outputs": [],
   "source": []
  },
  {
   "cell_type": "code",
   "execution_count": null,
   "metadata": {},
   "outputs": [],
   "source": []
  },
  {
   "cell_type": "markdown",
   "metadata": {},
   "source": [
    "### Завдання 2. \n",
    "\n",
    "[8 балів] + [прогнози: до 4 балів]\n",
    "\n",
    "Для датасету `data300_train.csv`\n",
    "(300 числових ознак, цільова змінна \"Category\" приймає два значення)\n",
    "\n",
    "1. За допомогою бегінгу над деревами отримати якомога кращий класифікатор (провести пошук оптимальних параметрів -- глибина дерев, кількість дерев, кількість ознак і т.д.)\n",
    "\n",
    "2. За допомогою градієнтного бустингу над деревами отримати якомога кращий класифікатор (провести пошук оптимальних параметрів -- темп навчання, глибина дерев, кількість дерев, кількість ознак і т.д.)\n",
    "\n",
    "3. Зберегти прогнози найкращої моделі на датасеті `data300_test.csv` до файлу `predictions_ens.csv`\n",
    "\n",
    "4. Вилучивши `\"Category\"` спробувати отримати кластеризацію на два кластери, що відповідають значенням `\"Category\"` використовуючи алгоритми K-means та DBSCAN\n"
   ]
  },
  {
   "cell_type": "code",
   "execution_count": null,
   "metadata": {},
   "outputs": [],
   "source": []
  },
  {
   "cell_type": "code",
   "execution_count": null,
   "metadata": {},
   "outputs": [],
   "source": []
  },
  {
   "cell_type": "code",
   "execution_count": null,
   "metadata": {},
   "outputs": [],
   "source": []
  },
  {
   "cell_type": "code",
   "execution_count": null,
   "metadata": {},
   "outputs": [],
   "source": [
    "# Зберегти прогнози у змінну best_ens_predictions\n",
    "best_ens_predictions = "
   ]
  },
  {
   "cell_type": "code",
   "execution_count": null,
   "metadata": {},
   "outputs": [],
   "source": [
    "# Запустити для створення файлу\n",
    "pd.Series(best_ens_predictions).to_csv('predictions_ens.csv')"
   ]
  },
  {
   "cell_type": "code",
   "execution_count": null,
   "metadata": {},
   "outputs": [],
   "source": []
  },
  {
   "cell_type": "code",
   "execution_count": null,
   "metadata": {},
   "outputs": [],
   "source": []
  },
  {
   "cell_type": "markdown",
   "metadata": {},
   "source": [
    "### Завдання 3. \n",
    "\n",
    "[6 балів] + [прогнози: до 4 балів]\n",
    "\n",
    "Для датасету `data_train.csv`\n",
    "(58 числових ознак, цільова змінна \"shares\")\n",
    "\n",
    "Отримати найкращий регресор використовуючи не дуже глибокі нейронні мережі. Зберегти прогнози найкращої моделі на датасеті `data_test.csv` до файлу `predictions_ann.csv`.\n",
    "\n"
   ]
  },
  {
   "cell_type": "code",
   "execution_count": null,
   "metadata": {},
   "outputs": [],
   "source": []
  },
  {
   "cell_type": "code",
   "execution_count": null,
   "metadata": {},
   "outputs": [],
   "source": []
  },
  {
   "cell_type": "code",
   "execution_count": null,
   "metadata": {},
   "outputs": [],
   "source": []
  },
  {
   "cell_type": "code",
   "execution_count": null,
   "metadata": {},
   "outputs": [],
   "source": [
    "# Зберегти прогнози у змінну best_ann_predictions\n",
    "best_ann_predictions = "
   ]
  },
  {
   "cell_type": "code",
   "execution_count": null,
   "metadata": {},
   "outputs": [],
   "source": [
    "# Запустити для створення файлу\n",
    "pd.Series(best_ann_predictions).to_csv('predictions_ann.csv')"
   ]
  },
  {
   "cell_type": "code",
   "execution_count": null,
   "metadata": {},
   "outputs": [],
   "source": []
  },
  {
   "cell_type": "code",
   "execution_count": null,
   "metadata": {},
   "outputs": [],
   "source": []
  },
  {
   "cell_type": "markdown",
   "metadata": {},
   "source": [
    "### Зберегти результати роботи у jupyter-ноутбук. Ноутбук повинен бути збережений у стані в якому усі клітинки запущені і не містити помилок. Формат назви файлу `ЕКЗ2_Прізвище_Ім'я.ipynb`. Окремо додати файли `predictions_ens.csv` та `predictions_ann.csv`.\n",
    "\n",
    "\n",
    "[2 бали]"
   ]
  },
  {
   "cell_type": "code",
   "execution_count": null,
   "metadata": {},
   "outputs": [],
   "source": []
  }
 ],
 "metadata": {
  "kernelspec": {
   "display_name": "Python 3 (ipykernel)",
   "language": "python",
   "name": "python3"
  },
  "language_info": {
   "codemirror_mode": {
    "name": "ipython",
    "version": 3
   },
   "file_extension": ".py",
   "mimetype": "text/x-python",
   "name": "python",
   "nbconvert_exporter": "python",
   "pygments_lexer": "ipython3",
   "version": "3.11.5"
  }
 },
 "nbformat": 4,
 "nbformat_minor": 4
}
