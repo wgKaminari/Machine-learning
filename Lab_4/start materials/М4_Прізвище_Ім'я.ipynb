{
 "cells": [
  {
   "cell_type": "markdown",
   "metadata": {},
   "source": [
    "Датасет `wine.csv` містить дані якість вина. Цільовою змінною є `quality`. \n",
    "\n",
    "\n",
    "Датасет `wine_predict.csv` не містить значень цільової змінної і призначений для зовнішнього оцінювання.\n"
   ]
  },
  {
   "cell_type": "code",
   "execution_count": 1,
   "metadata": {},
   "outputs": [],
   "source": [
    "import numpy as np\n",
    "import pandas as pd\n",
    "import matplotlib.pyplot as plt \n"
   ]
  },
  {
   "cell_type": "code",
   "execution_count": null,
   "metadata": {},
   "outputs": [],
   "source": []
  },
  {
   "cell_type": "markdown",
   "metadata": {},
   "source": [
    "## Завдання 1\n",
    "\n",
    "[3 бали] \n",
    "\n",
    "Імпортувати датасет `wine.csv` у об'єкт DataFrame і провести попередній аналіз даних засобами pandas, matplotlib, seaborn.   "
   ]
  },
  {
   "cell_type": "code",
   "execution_count": null,
   "metadata": {},
   "outputs": [],
   "source": []
  },
  {
   "cell_type": "code",
   "execution_count": null,
   "metadata": {},
   "outputs": [],
   "source": []
  },
  {
   "cell_type": "code",
   "execution_count": null,
   "metadata": {},
   "outputs": [],
   "source": []
  },
  {
   "cell_type": "markdown",
   "metadata": {},
   "source": [
    "## Завдання 2\n",
    "\n",
    "\n",
    "[12 балів]\n",
    "\n",
    "### Задача класифікації\n",
    "   \n",
    "   * Навчити модель `sklearn.ensemble.VotingClassifier` беручи у якості множини базових алгоритмів { `LogisticRegression`, `SVC`, `KNeighborsClassifier`, `DecisionTreeClassifier` }  та експерементуючи з параметрами базових алгоритмів та композиції. Знайти середню точність (accuracy) для найкращої моделі на відкладеній вибірці.\n",
    "   \n",
    "   \n",
    "   * Навчити модель `sklearn.ensemble.BaggingClassifier` беручи у якості базових алгоритмів `DecisionTreeClassifier` та експерементуючи з параметрами композиції. Знайти середню точність (accuracy) для найкращої моделі на відкладеній вибірці.\n",
    "   \n",
    "   \n",
    "   * Навчити модель `sklearn.ensemble.AdaBoostClassifier` беручи у якості базових алгоритмів `DecisionTreeClassifier` та експерементуючи з параметрами композиції. Знайти середню точність (accuracy) для найкращої моделі на відкладеній вибірці.\n",
    "   \n",
    "   \n",
    "   * Навчити модель `sklearn.ensemble.GradientBoostingClassifier` беручи у якості базових алгоритмів `DecisionTreeClassifier` та експерементуючи з параметрами композиції. Знайти середню точність (accuracy) для найкращої моделі на відкладеній вибірці.\n",
    "   \n",
    "   \n",
    "   * Навчити модель `xgboost.XGBClassifier` беручи у якості базових алгоритмів `gbtree` або `gblinear` або `dart` (розглянути всі варіанти) та експерементуючи з параметрами композиції. Знайти середню точність (accuracy) для найкращої моделі на відкладеній вибірці.\n",
    "   \n",
    "   \n",
    "   * Навчити модель `sklearn.ensemble.StackingClassifier`, беручи у якості множини базових алгоритмів { `LogisticRegression`, `SVC`, `KNeighborsClassifier`, `DecisionTreeClassifier` } а в якості `final_estimator` : `sklearn.linear_model.LogisticRegression` та `sklearn.ensemble.RandomForestClassifier`(розглянути обидва варіанти) та експерементуючи з параметрами базових алгоритмів та композиції. Знайти середню точність (accuracy) для найкращої моделі `StackingClassifier`.\n",
    "\n"
   ]
  },
  {
   "cell_type": "code",
   "execution_count": null,
   "metadata": {},
   "outputs": [],
   "source": []
  },
  {
   "cell_type": "code",
   "execution_count": null,
   "metadata": {},
   "outputs": [],
   "source": []
  },
  {
   "cell_type": "code",
   "execution_count": null,
   "metadata": {},
   "outputs": [],
   "source": []
  },
  {
   "cell_type": "markdown",
   "metadata": {},
   "source": [
    "### Зробити висновки і обрати найкращу модель яка розв'язує задачу класифікації. Для найкращої моделі знайти прогнози на вибірці `wine_predict.csv`. Значення прогнозів зберегти у файл `predictions_clf.csv` використовуючи код з ноутбуку, що додається.\n",
    "\n",
    "\n"
   ]
  },
  {
   "cell_type": "code",
   "execution_count": null,
   "metadata": {},
   "outputs": [],
   "source": []
  },
  {
   "cell_type": "code",
   "execution_count": null,
   "metadata": {},
   "outputs": [],
   "source": []
  },
  {
   "cell_type": "code",
   "execution_count": null,
   "metadata": {},
   "outputs": [],
   "source": []
  },
  {
   "cell_type": "code",
   "execution_count": null,
   "metadata": {},
   "outputs": [],
   "source": [
    "# Зберегти прогнози у змінну best_clf_model_predictions\n",
    "best_clf_model_predictions = "
   ]
  },
  {
   "cell_type": "code",
   "execution_count": null,
   "metadata": {},
   "outputs": [],
   "source": [
    "# Запустити для створення файлу\n",
    "pd.Series(best_clf_model_predictions).to_csv('predictions_clf.csv')"
   ]
  },
  {
   "cell_type": "code",
   "execution_count": null,
   "metadata": {},
   "outputs": [],
   "source": []
  },
  {
   "cell_type": "code",
   "execution_count": null,
   "metadata": {},
   "outputs": [],
   "source": []
  },
  {
   "cell_type": "markdown",
   "metadata": {},
   "source": [
    "### Завдання 3\n",
    "\n",
    "[1 бал]\n",
    "\n",
    "Зберегти результати роботи у jupyter-ноутбук. Ноутбук повинен бути збережений у стані в якому усі клітинки запущені і не містити помилок. Формат назви файлу `M2_Прізвище_Ім'я.ipynb`\n",
    "\n",
    "Окремо додати файл `predictions_clf.csv`.\n",
    "\n",
    "\n",
    "Додатково можна отримати до [4 балів] за порівняннями результатів найкращих моделей завдання 2."
   ]
  },
  {
   "cell_type": "code",
   "execution_count": null,
   "metadata": {},
   "outputs": [],
   "source": []
  }
 ],
 "metadata": {
  "kernelspec": {
   "display_name": "Python 3",
   "language": "python",
   "name": "python3"
  },
  "language_info": {
   "codemirror_mode": {
    "name": "ipython",
    "version": 3
   },
   "file_extension": ".py",
   "mimetype": "text/x-python",
   "name": "python",
   "nbconvert_exporter": "python",
   "pygments_lexer": "ipython3",
   "version": "3.8.5"
  }
 },
 "nbformat": 4,
 "nbformat_minor": 4
}
