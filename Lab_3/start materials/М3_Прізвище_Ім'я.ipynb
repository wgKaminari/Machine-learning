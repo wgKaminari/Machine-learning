{
 "cells": [
  {
   "cell_type": "markdown",
   "metadata": {},
   "source": [
    "Датасет `bio.csv` містить дані про біоконцентрацію хімічних сполук. Ознаками є молекулярні дескриптори. Цільовою змінною є `logBCF`.\n",
    "\n",
    "Датасет `bio_predict.csv` не містить значень цільової змінної і призначений для зовнішнього оцінювання."
   ]
  },
  {
   "cell_type": "code",
   "execution_count": 1,
   "metadata": {},
   "outputs": [],
   "source": [
    "import numpy as np\n",
    "import pandas as pd\n",
    "import matplotlib.pyplot as plt \n"
   ]
  },
  {
   "cell_type": "code",
   "execution_count": null,
   "metadata": {},
   "outputs": [],
   "source": []
  },
  {
   "cell_type": "markdown",
   "metadata": {},
   "source": [
    "## Завдання 1\n",
    "\n",
    "[3 бали] \n",
    "\n",
    "\n",
    "Імпортувати датасет `bio.csv` у об'єкт `DataFrame` і провести попередній аналіз даних засобами `pandas`, `matplotlib`, `seaborn`.  "
   ]
  },
  {
   "cell_type": "code",
   "execution_count": null,
   "metadata": {},
   "outputs": [],
   "source": []
  },
  {
   "cell_type": "code",
   "execution_count": null,
   "metadata": {},
   "outputs": [],
   "source": []
  },
  {
   "cell_type": "code",
   "execution_count": null,
   "metadata": {},
   "outputs": [],
   "source": []
  },
  {
   "cell_type": "markdown",
   "metadata": {},
   "source": [
    "## Завдання 2\n",
    "\n",
    "[9 балів]\n",
    "\n",
    "### Задача регресії\n",
    "\n",
    "\n",
    "\n",
    "\n",
    "   \n",
    "   * Навчити модель `sklearn.ensemble.VotingRegressor` беручи у якості множини базових алгоритмів { `LinearRegression`, `SVR`, `KNeighborsRegressor`, `DecisionTreeRegressor` }  та експерементуючи з параметрами базових алгоритмів та композиції. Знайти коефіцієнт детермінації `R2` для найкращої моделі на відкладеній вибірці.\n",
    "   \n",
    "   \n",
    "   * Навчити модель `sklearn.ensemble.BaggingRegressor` беручи у якості базових алгоритмів `DecisionTreeRegressor` та експерементуючи з параметрами композиції. Знайти коефіцієнт детермінації `R2` для найкращої моделі на відкладеній вибірці.\n",
    "   \n",
    "   \n",
    "   * Навчити модель `sklearn.ensemble.AdaBoostRegressor` беручи у якості базових алгоритмів `DecisionTreeRegressor` та експерементуючи з параметрами композиції. Знайти коефіцієнт детермінації `R2` для найкращої моделі на відкладеній вибірці.\n",
    "   \n",
    "   \n",
    "   * Навчити модель `sklearn.ensemble.GradientBoostingRegressor` беручи у якості базових алгоритмів `DecisionTreeRegressor` та експерементуючи з параметрами композиції. Знайти коефіцієнт детермінації `R2` для найкращої моделі на відкладеній вибірці.\n",
    "   \n",
    "   \n",
    "   * Навчити модель `xgboost.XGBRegressor` беручи у якості базових алгоритмів `gbtree` або `gblinear` або `dart` (розглянути всі варіанти) та експерементуючи з параметрами композиції. Знайти коефіцієнт детермінації `R2` для найкращої моделі на відкладеній вибірці.\n",
    "   \n",
    "   \n",
    "   * Навчити модель `sklearn.ensemble.StackingRegressor`, беручи у якості множини базових алгоритмів { `LinearRegression`, `SVR`, `KNeighborsRegressor`, `DecisionTreeRegressor` } а в якості `final_estimator` : `sklearn.linear_model.RidgeCV` та `sklearn.ensemble.RandomForestRegressor`(розглянути обидва варіанти) та експерементуючи з параметрами базових алгоритмів та композиції. Знайти коефіцієнт детермінації `R2` для найкращої моделі `StackingRegressor`.\n",
    "   \n",
    "\n",
    "\n"
   ]
  },
  {
   "cell_type": "code",
   "execution_count": null,
   "metadata": {},
   "outputs": [],
   "source": []
  },
  {
   "cell_type": "code",
   "execution_count": null,
   "metadata": {},
   "outputs": [],
   "source": []
  },
  {
   "cell_type": "code",
   "execution_count": null,
   "metadata": {},
   "outputs": [],
   "source": []
  },
  {
   "cell_type": "markdown",
   "metadata": {},
   "source": [
    "### Зробити висновки і обрати найкращу модель яка розв'язує задачу регресії. Для найкращої моделі знайти прогнози на вибірці `bio_predict.csv`. Значення прогнозів зберегти у файл `predictions_reg.csv`.\n",
    "\n"
   ]
  },
  {
   "cell_type": "code",
   "execution_count": null,
   "metadata": {},
   "outputs": [],
   "source": []
  },
  {
   "cell_type": "code",
   "execution_count": null,
   "metadata": {},
   "outputs": [],
   "source": []
  },
  {
   "cell_type": "code",
   "execution_count": null,
   "metadata": {},
   "outputs": [],
   "source": []
  },
  {
   "cell_type": "code",
   "execution_count": null,
   "metadata": {},
   "outputs": [],
   "source": [
    "# Зберегти прогнози у змінну best_reg_model_predictions\n",
    "best_reg_model_predictions = "
   ]
  },
  {
   "cell_type": "code",
   "execution_count": null,
   "metadata": {},
   "outputs": [],
   "source": [
    "# Запустити для створення файлу\n",
    "pd.Series(best_reg_model_predictions).to_csv('predictions_reg.csv')"
   ]
  },
  {
   "cell_type": "code",
   "execution_count": null,
   "metadata": {},
   "outputs": [],
   "source": []
  },
  {
   "cell_type": "code",
   "execution_count": null,
   "metadata": {},
   "outputs": [],
   "source": []
  },
  {
   "cell_type": "markdown",
   "metadata": {},
   "source": [
    "### Завдання 3\n",
    "\n",
    "[1 бал]\n",
    "\n",
    "Зберегти результати роботи у jupyter-ноутбук. Ноутбук повинен бути збережений у стані в якому усі клітинки запущені і не містити помилок. Формат назви файлу `M1_Прізвище_Ім'я.ipynb`\n",
    "\n",
    "Окремо додати файл `predictions_reg.csv`.\n",
    "\n",
    "\n",
    "Додатково можна отримати до [4 балів] за порівняннями результатів найкращих моделей завдання 2."
   ]
  },
  {
   "cell_type": "code",
   "execution_count": null,
   "metadata": {},
   "outputs": [],
   "source": []
  }
 ],
 "metadata": {
  "kernelspec": {
   "display_name": "Python 3",
   "language": "python",
   "name": "python3"
  },
  "language_info": {
   "codemirror_mode": {
    "name": "ipython",
    "version": 3
   },
   "file_extension": ".py",
   "mimetype": "text/x-python",
   "name": "python",
   "nbconvert_exporter": "python",
   "pygments_lexer": "ipython3",
   "version": "3.8.5"
  }
 },
 "nbformat": 4,
 "nbformat_minor": 4
}
