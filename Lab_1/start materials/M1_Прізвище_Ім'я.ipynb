{
 "cells": [
  {
   "cell_type": "markdown",
   "metadata": {},
   "source": [
    "\n",
    "\n",
    "Датасет `data.csv` містить дані про студентів та підсумкові семестрові оцінки. \n",
    "\n",
    "Цільовою змінною є \"GRADE\" -- це підсумкова оцінка за семестр (мінімальне значення 0, максимальне 20)\n",
    "\n",
    "Файл `attributes.csv` містить повні назви ознак.\n",
    "\n",
    "Датасет `predict.csv` не містить оцінок і призначений для зовнішнього оцінювання. \n",
    "\n",
    "\n",
    "\n",
    "\n",
    "\n",
    "\n",
    "\n",
    "\n",
    "\n",
    "\n",
    "\n"
   ]
  },
  {
   "cell_type": "code",
   "execution_count": 1,
   "metadata": {},
   "outputs": [],
   "source": [
    "import numpy as np\n",
    "import pandas as pd\n",
    "import matplotlib.pyplot as plt \n",
    "#import seaborn as sns\n"
   ]
  },
  {
   "cell_type": "markdown",
   "metadata": {},
   "source": [
    "## Завдання 1\n",
    "\n",
    "[3 бали] \n",
    "\n",
    "Імпортувати датасет `data.csv` у об'єкт `DataFrame` і провести попередній аналіз даних засобами `pandas`, `matplotlib`, `seaborn`.  "
   ]
  },
  {
   "cell_type": "code",
   "execution_count": null,
   "metadata": {},
   "outputs": [],
   "source": []
  },
  {
   "cell_type": "code",
   "execution_count": null,
   "metadata": {},
   "outputs": [],
   "source": []
  },
  {
   "cell_type": "code",
   "execution_count": null,
   "metadata": {},
   "outputs": [],
   "source": []
  },
  {
   "cell_type": "markdown",
   "metadata": {},
   "source": [
    "## Завдання 2\n",
    "\n",
    "[3 бали] \n",
    "\n",
    "Навчити модель лінійної регресії (`sklearn.linear_model.LinearRegression`) лише за числовими ознаками. \n",
    "\n",
    "Розглянути також варіанти з регуляризацією (`Ridge`, `Lasso`). Знайти оптимальні параметри регуляризації (`alpha`) за допомогою процедури крос-валідації.\n",
    "\n",
    "Для всіх моделей знайти коефіцієнт детермінації на відкладеній вибірці.\n",
    "\n",
    "Зробити висновки."
   ]
  },
  {
   "cell_type": "code",
   "execution_count": null,
   "metadata": {},
   "outputs": [],
   "source": []
  },
  {
   "cell_type": "code",
   "execution_count": null,
   "metadata": {},
   "outputs": [],
   "source": []
  },
  {
   "cell_type": "code",
   "execution_count": null,
   "metadata": {},
   "outputs": [],
   "source": []
  },
  {
   "cell_type": "markdown",
   "metadata": {},
   "source": [
    "## Завдання 3\n",
    "\n",
    "[5 балів] \n",
    "\n",
    "Навчити модель лінійної регресії з використанням усіх ознак (застосувати one-hot кодування, бінаризацію тощо до нечислових ознак).\n",
    "\n",
    "* Спробувати `LinearRegression`, `Ridge`, `Lasso`, `SGDRegressor(loss='squared_error')`, експерементуючи з кількістю і складом ознак та  підбором основних гіперпараметрів. \n",
    "    * `alpha` для `Ridge` та `Lasso`\n",
    "    * `penalty`, `alpha`, `learning_rate` для `SGDRegressor` за допомогою `GridSearchCV`\n",
    "* Мета -- отримати якомога кращий результат. \n",
    "* Знайти коефіцієнт детермінації для найкращих моделей на відкладеній вибірці.\n"
   ]
  },
  {
   "cell_type": "code",
   "execution_count": null,
   "metadata": {},
   "outputs": [],
   "source": []
  },
  {
   "cell_type": "code",
   "execution_count": null,
   "metadata": {},
   "outputs": [],
   "source": []
  },
  {
   "cell_type": "code",
   "execution_count": null,
   "metadata": {},
   "outputs": [],
   "source": []
  },
  {
   "cell_type": "markdown",
   "metadata": {},
   "source": [
    "### Зробити висновки і обрати найкращу модель яка розв'язує задачу регресії. Для найкращої моделі знайти прогнози на вибірці `predict.csv`. Значення прогнозів зберегти у файл `predictions_reg.csv`.\n"
   ]
  },
  {
   "cell_type": "code",
   "execution_count": null,
   "metadata": {},
   "outputs": [],
   "source": [
    "# Зберегти прогнози у змінну best_reg_model_predictions\n",
    "best_reg_model_predictions = "
   ]
  },
  {
   "cell_type": "code",
   "execution_count": null,
   "metadata": {},
   "outputs": [],
   "source": [
    "# Запустити для створення файлу\n",
    "pd.Series(best_reg_model_predictions).to_csv('predictions_reg.csv')"
   ]
  },
  {
   "cell_type": "markdown",
   "metadata": {},
   "source": [
    "### Завдання 4\n",
    "\n",
    "[1 бал] \n",
    "\n",
    "Зберегти результати роботи у jupyter-ноутбук. Ноутбук повинен бути збережений у стані в якому усі клітинки запущені і не містити помилок. Формат назви файлу `M1_Прізвище_Ім'я.ipynb`\n",
    "\n",
    "Окремо додати файл `predictions_reg.csv`.\n",
    "\n",
    "\n",
    "Додатково можна отримати до [4 балів] за порівняннями результатів найкращих моделей завданнь 2 та 3."
   ]
  },
  {
   "cell_type": "code",
   "execution_count": null,
   "metadata": {},
   "outputs": [],
   "source": []
  }
 ],
 "metadata": {
  "kernelspec": {
   "display_name": "Python 3",
   "language": "python",
   "name": "python3"
  },
  "language_info": {
   "codemirror_mode": {
    "name": "ipython",
    "version": 3
   },
   "file_extension": ".py",
   "mimetype": "text/x-python",
   "name": "python",
   "nbconvert_exporter": "python",
   "pygments_lexer": "ipython3",
   "version": "3.8.8"
  }
 },
 "nbformat": 4,
 "nbformat_minor": 4
}
