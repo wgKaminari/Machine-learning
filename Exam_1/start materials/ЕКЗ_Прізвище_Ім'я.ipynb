{
 "cells": [
  {
   "cell_type": "markdown",
   "metadata": {},
   "source": [
    "Датасет `data.csv` містить дані про кредитування. Цільовою змінною є `loan_status` -- приймає 5 значень:\n",
    "\n",
    "* *Charged Off* (кредит не повернуто)\n",
    "* *Late (31-120 days)*\n",
    "* *Late (16-30 days)* \n",
    "* *In Grace Period* \n",
    "* *Fully Paid*  \n",
    "\n",
    "Файл `description.csv` не використовується у завданні, він містить повні назви ознак.\n",
    "\n",
    "Датасет `predict.csv` не містить значень цільової змінної і призначений для зовнішнього оцінювання.\n",
    "\n"
   ]
  },
  {
   "cell_type": "markdown",
   "metadata": {},
   "source": [
    "### 1. Імпортувати датасет data.csv у об'єкт DataFrame і провести попередній аналіз даних засобами pandas, matplotlib, seaborn. Кожен графік чи візуалізація повинен супроводжуватися висновками.\n",
    "\n"
   ]
  },
  {
   "cell_type": "code",
   "execution_count": 1,
   "metadata": {},
   "outputs": [],
   "source": [
    "import numpy as np\n",
    "import pandas as pd\n",
    "import matplotlib.pyplot as plt \n"
   ]
  },
  {
   "cell_type": "code",
   "execution_count": null,
   "metadata": {},
   "outputs": [],
   "source": []
  },
  {
   "cell_type": "code",
   "execution_count": null,
   "metadata": {},
   "outputs": [],
   "source": []
  },
  {
   "cell_type": "markdown",
   "metadata": {},
   "source": [
    "## 2. **Задача регресії**. \n",
    "\n",
    "Створити нову цільову змінну `y_reg` яка приймає значення `1` якщо `loan_status` `==` `Charged Off` і `0` в інших випадках. Після цього вилучити з датасету `loan_status`. (Зверніть увагу: датасет містить неповні дані, тому варто розглянути різні стратегії роботи з пропусками в даних)\n",
    "\n",
    "   * Навчити модель лінійної регресії, експерементуючи з параметрами регуляризації, кількістю і складом ознак.     Знайти коефіцієнт детермінації для найкращої моделі на відкладеній вибірці.\n",
    "    \n",
    "   * Навчити модель SVM Regressor (`sklearn.svm.SVR`), експерементуючи з параметрами регуляризації та ядра. Знайти коефіцієнт детермінації для найкращої моделі на відкладеній вибірці.\n",
    "\n",
    "   * Навчити модель KNN Regressor (`sklearn.neighbors.KNeighborsRegressor`), експерементуючи з параметрами кількості сусідів та метрики. Знайти коефіцієнт детермінації для найкращої моделі на відкладеній вибірці.\n",
    "    \n",
    "   * Навчити модель `sklearn.tree.DecisionTreeRegressor`, експерементуючи з параметрами `criterion`, `max_depth`, `max_features`, `min_samples_split`, `min_samples_leaf`. Знайти коефіцієнт детермінації для найкращої моделі на відкладеній вибірці.\n",
    "    \n",
    "   * Навчити модель `sklearn.ensemble.RandomForestRegressor`, експерементуючи з параметрами `n_estimators`, `max_depth`, `max_features`. Знайти коефіцієнт детермінації для найкращої моделі на відкладеній вибірці.\n",
    "\n"
   ]
  },
  {
   "cell_type": "code",
   "execution_count": null,
   "metadata": {},
   "outputs": [],
   "source": []
  },
  {
   "cell_type": "code",
   "execution_count": null,
   "metadata": {},
   "outputs": [],
   "source": []
  },
  {
   "cell_type": "code",
   "execution_count": null,
   "metadata": {},
   "outputs": [],
   "source": []
  },
  {
   "cell_type": "markdown",
   "metadata": {},
   "source": [
    "### 3. Зробити висновки і обрати найкращу модель яка розв'язує задачу регресії. Для найкращої моделі знайти прогнози на вибірці `predict.csv`. Значення прогнозів зберегти у файл `predictions_reg.csv`.\n",
    "\n"
   ]
  },
  {
   "cell_type": "code",
   "execution_count": null,
   "metadata": {},
   "outputs": [],
   "source": []
  },
  {
   "cell_type": "code",
   "execution_count": null,
   "metadata": {},
   "outputs": [],
   "source": []
  },
  {
   "cell_type": "code",
   "execution_count": null,
   "metadata": {},
   "outputs": [],
   "source": []
  },
  {
   "cell_type": "code",
   "execution_count": null,
   "metadata": {},
   "outputs": [],
   "source": [
    "# Зберегти прогнози у змінну best_reg_model_predictions\n",
    "best_reg_model_predictions = "
   ]
  },
  {
   "cell_type": "code",
   "execution_count": null,
   "metadata": {},
   "outputs": [],
   "source": [
    "# Запустити для створення файлу\n",
    "pd.Series(best_reg_model_predictions).to_csv('predictions_reg.csv')"
   ]
  },
  {
   "cell_type": "markdown",
   "metadata": {},
   "source": [
    "## 4. **Задача класифікації**. \n",
    "\n",
    "Імпортувати наново датасет `data.csv`. Вважаючи `loan_status` цільовою змінною розв'язати задачу п'ятикласової класифікації. Використати різні підходи експерементуючи з параметрами як у пункті 2. Розглянути :\n",
    "\n",
    "   * логістичну регресію\n",
    "   * метод опорних векторів (`sklearn.svm.SVC`)\n",
    "   * метод найближчих сусідів (`sklearn.neighbors.KNeighborsClassifier`)\n",
    "   * дерево прийняття рішень (`sklearn.tree.DecisionTreeClassifier`)\n",
    "   * випадковий ліс (`sklearn.ensemble.RandomForestClassifier`)\n",
    "\n",
    "   В кожному випадку знайти середню точність для найкращої моделі на відкладеній вибірці.\n",
    "\n",
    "\n"
   ]
  },
  {
   "cell_type": "code",
   "execution_count": null,
   "metadata": {},
   "outputs": [],
   "source": []
  },
  {
   "cell_type": "code",
   "execution_count": null,
   "metadata": {},
   "outputs": [],
   "source": []
  },
  {
   "cell_type": "code",
   "execution_count": null,
   "metadata": {},
   "outputs": [],
   "source": []
  },
  {
   "cell_type": "markdown",
   "metadata": {},
   "source": [
    "### 5. Зробити висновки і обрати найкращу модель яка розв'язує задачу класифікації. Для найкращої моделі знайти прогнози на вибірці `predict.csv`. Значення прогнозів зберегти у файл `predictions_clf.csv`.\n",
    "    \n"
   ]
  },
  {
   "cell_type": "code",
   "execution_count": null,
   "metadata": {},
   "outputs": [],
   "source": []
  },
  {
   "cell_type": "code",
   "execution_count": null,
   "metadata": {},
   "outputs": [],
   "source": []
  },
  {
   "cell_type": "code",
   "execution_count": null,
   "metadata": {},
   "outputs": [],
   "source": []
  },
  {
   "cell_type": "code",
   "execution_count": null,
   "metadata": {},
   "outputs": [],
   "source": [
    "# Зберегти прогнози у змінну best_clf_model_predictions\n",
    "best_clf_model_predictions = "
   ]
  },
  {
   "cell_type": "code",
   "execution_count": null,
   "metadata": {},
   "outputs": [],
   "source": [
    "# Запустити для створення файлу\n",
    "pd.Series(best_clf_model_predictions).to_csv('predictions_clf.csv')"
   ]
  },
  {
   "cell_type": "markdown",
   "metadata": {},
   "source": [
    "## 6. **Задача двокласової класифікації**. \n",
    "\n",
    "Перетворити цільову змінну `loan_status` на бінарну : `1` якщо `Charged Off`, `0` в інших випадках. Застосувати підходи з пункту 4 і визначити найкращу модель. Для найкращих моделей кожного типу знайти `precision`, `recall`, `roc_auc_score` та зобразити криві `precision-recall` та `roc`. Зробити висновки.\n",
    "\n"
   ]
  },
  {
   "cell_type": "code",
   "execution_count": null,
   "metadata": {},
   "outputs": [],
   "source": []
  },
  {
   "cell_type": "code",
   "execution_count": null,
   "metadata": {},
   "outputs": [],
   "source": []
  },
  {
   "cell_type": "code",
   "execution_count": null,
   "metadata": {},
   "outputs": [],
   "source": []
  },
  {
   "cell_type": "code",
   "execution_count": null,
   "metadata": {},
   "outputs": [],
   "source": []
  },
  {
   "cell_type": "code",
   "execution_count": null,
   "metadata": {},
   "outputs": [],
   "source": []
  },
  {
   "cell_type": "markdown",
   "metadata": {},
   "source": [
    "### 7. Зберегти результати роботи у jupyter-ноутбук. Ноутбук повинен бути збережений у стані в якому усі клітинки запущені і не містити помилок. Формат назви файлу `ЕКЗ_Прізвище_Ім'я.ipynb`. Окремо додати файли `predictions_reg.csv` та `predictions_clf.csv`.\n"
   ]
  },
  {
   "cell_type": "code",
   "execution_count": null,
   "metadata": {},
   "outputs": [],
   "source": []
  }
 ],
 "metadata": {
  "kernelspec": {
   "display_name": "Python 3",
   "language": "python",
   "name": "python3"
  },
  "language_info": {
   "codemirror_mode": {
    "name": "ipython",
    "version": 3
   },
   "file_extension": ".py",
   "mimetype": "text/x-python",
   "name": "python",
   "nbconvert_exporter": "python",
   "pygments_lexer": "ipython3",
   "version": "3.8.8"
  }
 },
 "nbformat": 4,
 "nbformat_minor": 4
}
