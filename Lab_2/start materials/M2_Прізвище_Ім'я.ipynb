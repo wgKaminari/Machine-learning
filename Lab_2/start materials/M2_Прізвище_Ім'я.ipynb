{
 "cells": [
  {
   "cell_type": "markdown",
   "metadata": {},
   "source": [
    "Датасет `data_bin.csv` містить дані про студентів та підсумкові семестрові оцінки. \n",
    "\n",
    "Цільовою змінною є \"PASSED\" -- приймає два значення \n",
    "\n",
    "   * `True` якщо оцінка за семестр є більшою за 10\n",
    "   * `False` якщо оцінка за семестр є меншою за 11\n",
    "\n",
    "Файл `attributes.csv` містить повні назви ознак.\n",
    "\n",
    "Датасет `predict.csv` не містить значень цільової змінної і призначений для зовнішнього оцінювання.  "
   ]
  },
  {
   "cell_type": "code",
   "execution_count": 1,
   "metadata": {},
   "outputs": [],
   "source": [
    "import numpy as np\n",
    "import pandas as pd\n",
    "import matplotlib.pyplot as plt\n",
    "#import seaborn as sns"
   ]
  },
  {
   "cell_type": "markdown",
   "metadata": {},
   "source": [
    "## Завдання 1\n",
    "\n",
    "[2 бали] \n",
    "\n",
    "Імпортувати датасет `data.csv` у об'єкт `DataFrame` і провести попередній аналіз даних засобами `pandas`, `matplotlib`, `seaborn`. \n",
    "\n",
    "Цільовою змінною є \"PASSED\""
   ]
  },
  {
   "cell_type": "code",
   "execution_count": null,
   "metadata": {},
   "outputs": [],
   "source": []
  },
  {
   "cell_type": "code",
   "execution_count": null,
   "metadata": {},
   "outputs": [],
   "source": []
  },
  {
   "cell_type": "code",
   "execution_count": null,
   "metadata": {},
   "outputs": [],
   "source": []
  },
  {
   "cell_type": "markdown",
   "metadata": {},
   "source": [
    "## Завдання 2\n",
    "\n",
    "[3 бали] \n",
    "\n",
    "Навчити модель логістичної регресії (`sklearn.linear_model.LogisticRegression`) лише за числовими ознаками. Дослідити вплив коефіцієнта та типу регуляризації на результат\n",
    "\n",
    "* Знайти оптимальні параметри коефіцієнта та типу регуляризації (`penalty`, `C`) за допомогою процедури крос-валідації.\n",
    "\n",
    "* Для всіх моделей знайти середню точність (accuracy) [частку правильних відповідей] на відкладеній вибірці.\n",
    "\n",
    "* Зробити висновки."
   ]
  },
  {
   "cell_type": "code",
   "execution_count": null,
   "metadata": {},
   "outputs": [],
   "source": []
  },
  {
   "cell_type": "code",
   "execution_count": null,
   "metadata": {},
   "outputs": [],
   "source": []
  },
  {
   "cell_type": "code",
   "execution_count": null,
   "metadata": {},
   "outputs": [],
   "source": []
  },
  {
   "cell_type": "markdown",
   "metadata": {},
   "source": [
    "## Завдання 3\n",
    "\n",
    "[6 балів] \n",
    "\n",
    "Навчити модель яка розв'язує задачу двокласової класифікації з використанням усіх ознак.\n",
    "Використати `sklearn.linear_model.LogisticRegression(solver='saga')` та `sklearn.linear_model.SGDClassifier(loss='log_loss')`.\n",
    "\n",
    "* Здійснити пошук оптимальних гіперпараметрів моделі використовуючи `GridSearchCV`\n",
    "    * (`penalty`, `C`) для `LogisticRegression(solver='saga')`\n",
    "    * (`penalty`, `alpha`, `l1_ratio`, `max_iter`, `learning_rate`) для `SGDClassifier(loss='log_loss')`\n",
    "* Мета -- отримати якомога кращий результат. \n",
    "* Оцінити точність (precision), повноту (recall), F-міру (F1-score), AUC-ROC використовуючи функції з модуля `sklearn.metrics`. \n",
    "* Зобразити криві ROC та Precision-Recall для найкращої моделі. \n",
    "* Зробити висновки.\n",
    "    "
   ]
  },
  {
   "cell_type": "code",
   "execution_count": null,
   "metadata": {},
   "outputs": [],
   "source": []
  },
  {
   "cell_type": "code",
   "execution_count": null,
   "metadata": {},
   "outputs": [],
   "source": []
  },
  {
   "cell_type": "code",
   "execution_count": null,
   "metadata": {},
   "outputs": [],
   "source": []
  },
  {
   "cell_type": "markdown",
   "metadata": {},
   "source": [
    "### Обрати найкращу модель яка розв'язує задачу класифікації. Для найкращої моделі знайти прогнози на вибірці `predict.csv`. Значення прогнозів та ймовірностей зберегти у файл `predictions_clf.csv`.\n",
    "    \n"
   ]
  },
  {
   "cell_type": "code",
   "execution_count": null,
   "metadata": {},
   "outputs": [],
   "source": []
  },
  {
   "cell_type": "code",
   "execution_count": null,
   "metadata": {},
   "outputs": [],
   "source": [
    "# Зберегти прогнози у змінну best_clf_model_predictions та ймовірності у best_clf_model_predict_proba\n",
    "best_clf_model_predictions = \n",
    "best_clf_model_predict_proba = \n",
    "\n",
    "for t in zip(best_clf_model_predictions, best_clf_model_predict_proba[:,1]):\n",
    "    print(*t)"
   ]
  },
  {
   "cell_type": "code",
   "execution_count": null,
   "metadata": {},
   "outputs": [],
   "source": [
    "# Запустити для створення файлу\n",
    "pd.DataFrame(zip(best_clf_model_predictions, \n",
    "                 best_clf_model_predict_proba[:,1]), \n",
    "             columns=['preds', 'probas']).to_csv('predictions_clf.csv')"
   ]
  },
  {
   "cell_type": "markdown",
   "metadata": {},
   "source": [
    "\n",
    "\n",
    "## Завдання 4. \n",
    "\n",
    "[1 бал]\n",
    "\n",
    "Зберегти результати роботи у jupyter-ноутбук. Ноутбук повинен бути збережений у стані в якому усі клітинки запущені і не містити помилок. Формат назви файлу `М2_Прізвище_Ім'я.ipynb`. \n",
    "\n",
    "Окремо додати файл `predictions_clf.csv`.\n",
    "\n",
    "Додатково можна отримати до [4 балів] за порівняннями результатів найкращих моделей завдань 2 та 3.\n"
   ]
  },
  {
   "cell_type": "code",
   "execution_count": null,
   "metadata": {},
   "outputs": [],
   "source": []
  }
 ],
 "metadata": {
  "kernelspec": {
   "display_name": "Python 3",
   "language": "python",
   "name": "python3"
  },
  "language_info": {
   "codemirror_mode": {
    "name": "ipython",
    "version": 3
   },
   "file_extension": ".py",
   "mimetype": "text/x-python",
   "name": "python",
   "nbconvert_exporter": "python",
   "pygments_lexer": "ipython3",
   "version": "3.8.5"
  }
 },
 "nbformat": 4,
 "nbformat_minor": 4
}
